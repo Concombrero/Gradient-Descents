{
 "cells": [
  {
   "cell_type": "code",
   "execution_count": 4,
   "id": "3583f9f8-e2cd-48ff-bbb6-3883b28d6788",
   "metadata": {},
   "outputs": [],
   "source": [
    "import numpy as np"
   ]
  },
  {
   "cell_type": "code",
   "execution_count": 5,
   "id": "5a0ccc4b-ad6d-4ef4-80f6-b4bdb52cc39c",
   "metadata": {},
   "outputs": [
    {
     "name": "stdout",
     "output_type": "stream",
     "text": [
      "lezzgooo\n"
     ]
    }
   ],
   "source": [
    "print('lezzgooo')"
   ]
  },
  {
   "cell_type": "code",
   "execution_count": null,
   "id": "c81a2123-60aa-460c-a130-63c6097a8eb9",
   "metadata": {},
   "outputs": [],
   "source": []
  },
  {
   "cell_type": "code",
   "execution_count": null,
   "id": "3c521112-3e34-42fb-be41-d8c0caa81ef8",
   "metadata": {},
   "outputs": [],
   "source": []
  },
  {
   "cell_type": "code",
   "execution_count": 7,
   "id": "4350e5df-3f9f-4f7f-9320-3de7d53c62e9",
   "metadata": {},
   "outputs": [],
   "source": [
    "class Network:\n",
    "    def __init__(self, sizes):\n",
    "        self.num_layers = len(sizes)\n",
    "        self.sizes = sizes\n",
    "        self.biases = [np.random.randn(x, 1) for x in sizes[1:]]\n",
    "        self.weights = [np.random.randn(x, y) for (x,y) in zip(sizes[:-1], sizes[1:])]\n"
   ]
  },
  {
   "cell_type": "code",
   "execution_count": null,
   "id": "6bde8561-c721-46d0-8b8f-a31b0d509f53",
   "metadata": {},
   "outputs": [],
   "source": []
  }
 ],
 "metadata": {
  "kernelspec": {
   "display_name": "Python 3 (ipykernel)",
   "language": "python",
   "name": "python3"
  },
  "language_info": {
   "codemirror_mode": {
    "name": "ipython",
    "version": 3
   },
   "file_extension": ".py",
   "mimetype": "text/x-python",
   "name": "python",
   "nbconvert_exporter": "python",
   "pygments_lexer": "ipython3",
   "version": "3.12.2"
  }
 },
 "nbformat": 4,
 "nbformat_minor": 5
}
